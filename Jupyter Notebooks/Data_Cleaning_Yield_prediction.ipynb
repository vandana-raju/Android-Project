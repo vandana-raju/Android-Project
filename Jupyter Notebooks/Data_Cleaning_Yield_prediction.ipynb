{
 "cells": [
  {
   "cell_type": "markdown",
   "metadata": {},
   "source": [
    "# Data Preprocessing"
   ]
  },
  {
   "cell_type": "code",
   "execution_count": 1,
   "metadata": {},
   "outputs": [],
   "source": [
    "import pandas as pd\n",
    "import numpy as np"
   ]
  },
  {
   "cell_type": "code",
   "execution_count": 2,
   "metadata": {},
   "outputs": [],
   "source": [
    "df_original = pd.read_csv('../Datasets/original_yield_dataset.csv')"
   ]
  },
  {
   "cell_type": "code",
   "execution_count": 3,
   "metadata": {},
   "outputs": [
    {
     "data": {
      "text/plain": [
       "(74975, 7)"
      ]
     },
     "execution_count": 3,
     "metadata": {},
     "output_type": "execute_result"
    }
   ],
   "source": [
    "df_original.shape"
   ]
  },
  {
   "cell_type": "code",
   "execution_count": 4,
   "metadata": {},
   "outputs": [
    {
     "data": {
      "text/html": [
       "<div>\n",
       "<style scoped>\n",
       "    .dataframe tbody tr th:only-of-type {\n",
       "        vertical-align: middle;\n",
       "    }\n",
       "\n",
       "    .dataframe tbody tr th {\n",
       "        vertical-align: top;\n",
       "    }\n",
       "\n",
       "    .dataframe thead th {\n",
       "        text-align: right;\n",
       "    }\n",
       "</style>\n",
       "<table border=\"1\" class=\"dataframe\">\n",
       "  <thead>\n",
       "    <tr style=\"text-align: right;\">\n",
       "      <th></th>\n",
       "      <th>State</th>\n",
       "      <th>Year</th>\n",
       "      <th>Season</th>\n",
       "      <th>Crop</th>\n",
       "      <th>Area</th>\n",
       "      <th>Rainfall</th>\n",
       "      <th>Production</th>\n",
       "    </tr>\n",
       "  </thead>\n",
       "  <tbody>\n",
       "    <tr>\n",
       "      <th>0</th>\n",
       "      <td>Andaman and Nicobar Islands</td>\n",
       "      <td>2000</td>\n",
       "      <td>Kharif</td>\n",
       "      <td>Arecanut</td>\n",
       "      <td>1254.0</td>\n",
       "      <td>2763.2</td>\n",
       "      <td>2000.0</td>\n",
       "    </tr>\n",
       "    <tr>\n",
       "      <th>1</th>\n",
       "      <td>Andaman and Nicobar Islands</td>\n",
       "      <td>2000</td>\n",
       "      <td>Kharif</td>\n",
       "      <td>Other Kharif pulses</td>\n",
       "      <td>2.0</td>\n",
       "      <td>2763.2</td>\n",
       "      <td>1.0</td>\n",
       "    </tr>\n",
       "    <tr>\n",
       "      <th>2</th>\n",
       "      <td>Andaman and Nicobar Islands</td>\n",
       "      <td>2000</td>\n",
       "      <td>Kharif</td>\n",
       "      <td>Rice</td>\n",
       "      <td>102.0</td>\n",
       "      <td>2763.2</td>\n",
       "      <td>321.0</td>\n",
       "    </tr>\n",
       "    <tr>\n",
       "      <th>3</th>\n",
       "      <td>Andaman and Nicobar Islands</td>\n",
       "      <td>2000</td>\n",
       "      <td>Whole Year</td>\n",
       "      <td>Banana</td>\n",
       "      <td>176.0</td>\n",
       "      <td>2763.2</td>\n",
       "      <td>641.0</td>\n",
       "    </tr>\n",
       "    <tr>\n",
       "      <th>4</th>\n",
       "      <td>Andaman and Nicobar Islands</td>\n",
       "      <td>2000</td>\n",
       "      <td>Whole Year</td>\n",
       "      <td>Cashewnut</td>\n",
       "      <td>720.0</td>\n",
       "      <td>2763.2</td>\n",
       "      <td>165.0</td>\n",
       "    </tr>\n",
       "  </tbody>\n",
       "</table>\n",
       "</div>"
      ],
      "text/plain": [
       "                         State  Year       Season                 Crop  \\\n",
       "0  Andaman and Nicobar Islands  2000  Kharif                  Arecanut   \n",
       "1  Andaman and Nicobar Islands  2000  Kharif       Other Kharif pulses   \n",
       "2  Andaman and Nicobar Islands  2000  Kharif                      Rice   \n",
       "3  Andaman and Nicobar Islands  2000  Whole Year                Banana   \n",
       "4  Andaman and Nicobar Islands  2000  Whole Year             Cashewnut   \n",
       "\n",
       "     Area  Rainfall  Production  \n",
       "0  1254.0    2763.2      2000.0  \n",
       "1     2.0    2763.2         1.0  \n",
       "2   102.0    2763.2       321.0  \n",
       "3   176.0    2763.2       641.0  \n",
       "4   720.0    2763.2       165.0  "
      ]
     },
     "execution_count": 4,
     "metadata": {},
     "output_type": "execute_result"
    }
   ],
   "source": [
    "df_original.head()"
   ]
  },
  {
   "cell_type": "code",
   "execution_count": 5,
   "metadata": {},
   "outputs": [
    {
     "name": "stdout",
     "output_type": "stream",
     "text": [
      "<class 'pandas.core.frame.DataFrame'>\n",
      "RangeIndex: 74975 entries, 0 to 74974\n",
      "Data columns (total 7 columns):\n",
      " #   Column      Non-Null Count  Dtype  \n",
      "---  ------      --------------  -----  \n",
      " 0   State       74975 non-null  object \n",
      " 1   Year        74975 non-null  int64  \n",
      " 2   Season      74975 non-null  object \n",
      " 3   Crop        74975 non-null  object \n",
      " 4   Area        74975 non-null  float64\n",
      " 5   Rainfall    74975 non-null  float64\n",
      " 6   Production  74975 non-null  float64\n",
      "dtypes: float64(3), int64(1), object(3)\n",
      "memory usage: 4.0+ MB\n"
     ]
    }
   ],
   "source": [
    "df_original.info()"
   ]
  },
  {
   "cell_type": "markdown",
   "metadata": {},
   "source": [
    "##### There are many whites spaces which are causing Error ,Lets remove them"
   ]
  },
  {
   "cell_type": "code",
   "execution_count": 6,
   "metadata": {
    "scrolled": true
   },
   "outputs": [],
   "source": [
    "df_original = df_original.apply(lambda x: x.str.strip() if x.dtype == \"object\" else x)"
   ]
  },
  {
   "cell_type": "code",
   "execution_count": 7,
   "metadata": {},
   "outputs": [
    {
     "name": "stdout",
     "output_type": "stream",
     "text": [
      "86\n"
     ]
    }
   ],
   "source": [
    "print(len(df_original.Crop.unique()))"
   ]
  },
  {
   "cell_type": "code",
   "execution_count": 8,
   "metadata": {
    "scrolled": true
   },
   "outputs": [
    {
     "name": "stdout",
     "output_type": "stream",
     "text": [
      "['Arecanut' 'Arhar/Tur' 'Bajra' 'Banana' 'Barley'\n",
      " 'Beans & Mutter(Vegetable)' 'Bhindi' 'Black pepper' 'Blackgram' 'Brinjal'\n",
      " 'Cabbage' 'Cardamom' 'Carrot' 'Cashewnut' 'Cashewnut Raw' 'Castor seed'\n",
      " 'Citrus Fruit' 'Coconut' 'Coffee' 'Cond-spcs other' 'Coriander'\n",
      " 'Cotton(lint)' 'Drum Stick' 'Dry chillies' 'Dry ginger' 'Garlic' 'Ginger'\n",
      " 'Gram' 'Grapes' 'Groundnut' 'Guar seed' 'Horse-gram' 'Jack Fruit' 'Jowar'\n",
      " 'Jute' 'Khesari' 'Korra' 'Lentil' 'Linseed' 'Maize' 'Mango' 'Masoor'\n",
      " 'Mesta' 'Moong(Green Gram)' 'Moth' 'Niger seed' 'Oilseeds total' 'Onion'\n",
      " 'Orange' 'Other  Rabi pulses' 'Other Cereals & Millets'\n",
      " 'Other Kharif pulses' 'Other Vegetables' 'Paddy' 'Papaya'\n",
      " 'Peas & beans (Pulses)' 'Pineapple' 'Pome Fruit' 'Potato' 'Pulses total'\n",
      " 'Ragi' 'Rapeseed &Mustard' 'Redish' 'Rice' 'Rubber' 'Safflower' 'Samai'\n",
      " 'Sannhamp' 'Sesamum' 'Small millets' 'Soyabean' 'Sugarcane' 'Sunflower'\n",
      " 'Sweet potato' 'Tapioca' 'Tea' 'Tobacco' 'Tomato' 'Total foodgrain'\n",
      " 'Turmeric' 'Turnip' 'Urad' 'Varagu' 'Wheat' 'other misc. pulses'\n",
      " 'other oilseeds']\n"
     ]
    }
   ],
   "source": [
    "unique_crops = df_original.Crop.unique()\n",
    "print(np.sort(unique_crops))"
   ]
  },
  {
   "cell_type": "code",
   "execution_count": 9,
   "metadata": {
    "scrolled": true
   },
   "outputs": [
    {
     "data": {
      "text/plain": [
       "Rice                         5792\n",
       "Maize                        4827\n",
       "Moong(Green Gram)            3532\n",
       "Urad                         3171\n",
       "Sesamum                      2808\n",
       "Wheat                        2584\n",
       "Sugarcane                    2576\n",
       "Rapeseed &Mustard            2450\n",
       "Potato                       2436\n",
       "Groundnut                    2346\n",
       "Ragi                         2183\n",
       "Arhar/Tur                    2174\n",
       "Horse-gram                   1987\n",
       "Gram                         1920\n",
       "Dry chillies                 1644\n",
       "Onion                        1637\n",
       "Small millets                1579\n",
       "Turmeric                     1563\n",
       "Sunflower                    1425\n",
       "Dry ginger                   1387\n",
       "Masoor                       1363\n",
       "Sweet potato                 1334\n",
       "Peas & beans (Pulses)        1331\n",
       "Barley                       1258\n",
       "Banana                       1164\n",
       "Linseed                      1132\n",
       "Coriander                    1123\n",
       "Other Kharif pulses          1111\n",
       "Garlic                       1072\n",
       "Jowar                        1070\n",
       "Bajra                         930\n",
       "Other  Rabi pulses            863\n",
       "Khesari                       838\n",
       "Cotton(lint)                  829\n",
       "Castor seed                   805\n",
       "Sannhamp                      673\n",
       "Mesta                         670\n",
       "Tapioca                       646\n",
       "Cashewnut                     625\n",
       "Tobacco                       562\n",
       "Coconut                       561\n",
       "Soyabean                      512\n",
       "Arecanut                      446\n",
       "Jute                          407\n",
       "Black pepper                  371\n",
       "Niger seed                    355\n",
       "Safflower                     324\n",
       "Oilseeds total                271\n",
       "Other Cereals & Millets       268\n",
       "Cardamom                      212\n",
       "other oilseeds                209\n",
       "Pulses total                  163\n",
       "Guar seed                     116\n",
       "Mango                         114\n",
       "Total foodgrain               100\n",
       "Paddy                          90\n",
       "Jack Fruit                     82\n",
       "Ginger                         67\n",
       "Drum Stick                     58\n",
       "Papaya                         58\n",
       "Pome Fruit                     57\n",
       "Pineapple                      57\n",
       "Bhindi                         56\n",
       "Brinjal                        56\n",
       "Citrus Fruit                   55\n",
       "Tomato                         55\n",
       "Korra                          53\n",
       "Moth                           53\n",
       "Varagu                         43\n",
       "Orange                         38\n",
       "Samai                          31\n",
       "Blackgram                      31\n",
       "Rubber                         28\n",
       "Other Vegetables               28\n",
       "Grapes                         27\n",
       "Cabbage                        19\n",
       "Cond-spcs other                18\n",
       "Tea                            16\n",
       "Cashewnut Raw                  14\n",
       "Lentil                         13\n",
       "Coffee                          6\n",
       "Turnip                          6\n",
       "Beans & Mutter(Vegetable)       6\n",
       "Redish                          2\n",
       "Carrot                          2\n",
       "other misc. pulses              1\n",
       "Name: Crop, dtype: int64"
      ]
     },
     "execution_count": 9,
     "metadata": {},
     "output_type": "execute_result"
    }
   ],
   "source": [
    "pd.options.display.max_rows = 120\n",
    "df_original['Crop'].value_counts()"
   ]
  },
  {
   "cell_type": "code",
   "execution_count": 10,
   "metadata": {},
   "outputs": [
    {
     "name": "stdout",
     "output_type": "stream",
     "text": [
      "['Autumn' 'Kharif' 'Rabi' 'Summer' 'Whole Year' 'Winter']\n"
     ]
    }
   ],
   "source": [
    "unique_seasons = df_original.Season.unique()\n",
    "print(np.sort(unique_seasons))"
   ]
  },
  {
   "cell_type": "code",
   "execution_count": 11,
   "metadata": {},
   "outputs": [
    {
     "data": {
      "text/plain": [
       "Kharif        24375\n",
       "Whole Year    20644\n",
       "Rabi          17064\n",
       "Winter         4808\n",
       "Summer         4525\n",
       "Autumn         3559\n",
       "Name: Season, dtype: int64"
      ]
     },
     "execution_count": 11,
     "metadata": {},
     "output_type": "execute_result"
    }
   ],
   "source": [
    "df_original['Season'].value_counts()"
   ]
  },
  {
   "cell_type": "markdown",
   "metadata": {},
   "source": [
    "##### replace Paddy -> Rice and Summer -> Kharif ,Autumn -> Rabi , Winter -> Rabi"
   ]
  },
  {
   "cell_type": "code",
   "execution_count": 12,
   "metadata": {},
   "outputs": [],
   "source": [
    "df_original.replace(to_replace= {'Crop':{'Paddy': 'Rice'}, 'Season':{'Summer': 'Kharif', 'Autumn': 'Rabi', 'Winter': 'Rabi'}}, value=None, inplace=True)"
   ]
  },
  {
   "cell_type": "code",
   "execution_count": 13,
   "metadata": {},
   "outputs": [
    {
     "data": {
      "text/plain": [
       "Kharif        28900\n",
       "Rabi          25431\n",
       "Whole Year    20644\n",
       "Name: Season, dtype: int64"
      ]
     },
     "execution_count": 13,
     "metadata": {},
     "output_type": "execute_result"
    }
   ],
   "source": [
    "df_original.Season.value_counts()"
   ]
  },
  {
   "cell_type": "code",
   "execution_count": 14,
   "metadata": {
    "scrolled": true
   },
   "outputs": [
    {
     "data": {
      "text/plain": [
       "Rice                         5882\n",
       "Maize                        4827\n",
       "Moong(Green Gram)            3532\n",
       "Urad                         3171\n",
       "Sesamum                      2808\n",
       "Wheat                        2584\n",
       "Sugarcane                    2576\n",
       "Rapeseed &Mustard            2450\n",
       "Potato                       2436\n",
       "Groundnut                    2346\n",
       "Ragi                         2183\n",
       "Arhar/Tur                    2174\n",
       "Horse-gram                   1987\n",
       "Gram                         1920\n",
       "Dry chillies                 1644\n",
       "Onion                        1637\n",
       "Small millets                1579\n",
       "Turmeric                     1563\n",
       "Sunflower                    1425\n",
       "Dry ginger                   1387\n",
       "Masoor                       1363\n",
       "Sweet potato                 1334\n",
       "Peas & beans (Pulses)        1331\n",
       "Barley                       1258\n",
       "Banana                       1164\n",
       "Linseed                      1132\n",
       "Coriander                    1123\n",
       "Other Kharif pulses          1111\n",
       "Garlic                       1072\n",
       "Jowar                        1070\n",
       "Bajra                         930\n",
       "Other  Rabi pulses            863\n",
       "Khesari                       838\n",
       "Cotton(lint)                  829\n",
       "Castor seed                   805\n",
       "Sannhamp                      673\n",
       "Mesta                         670\n",
       "Tapioca                       646\n",
       "Cashewnut                     625\n",
       "Tobacco                       562\n",
       "Coconut                       561\n",
       "Soyabean                      512\n",
       "Arecanut                      446\n",
       "Jute                          407\n",
       "Black pepper                  371\n",
       "Niger seed                    355\n",
       "Safflower                     324\n",
       "Oilseeds total                271\n",
       "Other Cereals & Millets       268\n",
       "Cardamom                      212\n",
       "other oilseeds                209\n",
       "Pulses total                  163\n",
       "Guar seed                     116\n",
       "Mango                         114\n",
       "Total foodgrain               100\n",
       "Jack Fruit                     82\n",
       "Ginger                         67\n",
       "Drum Stick                     58\n",
       "Papaya                         58\n",
       "Pineapple                      57\n",
       "Pome Fruit                     57\n",
       "Brinjal                        56\n",
       "Bhindi                         56\n",
       "Citrus Fruit                   55\n",
       "Tomato                         55\n",
       "Korra                          53\n",
       "Moth                           53\n",
       "Varagu                         43\n",
       "Orange                         38\n",
       "Samai                          31\n",
       "Blackgram                      31\n",
       "Rubber                         28\n",
       "Other Vegetables               28\n",
       "Grapes                         27\n",
       "Cabbage                        19\n",
       "Cond-spcs other                18\n",
       "Tea                            16\n",
       "Cashewnut Raw                  14\n",
       "Lentil                         13\n",
       "Coffee                          6\n",
       "Turnip                          6\n",
       "Beans & Mutter(Vegetable)       6\n",
       "Redish                          2\n",
       "Carrot                          2\n",
       "other misc. pulses              1\n",
       "Name: Crop, dtype: int64"
      ]
     },
     "execution_count": 14,
     "metadata": {},
     "output_type": "execute_result"
    }
   ],
   "source": [
    "df_original.Crop.value_counts()"
   ]
  },
  {
   "cell_type": "markdown",
   "metadata": {},
   "source": [
    "##### removed crops whose Frequency is less than 805 lets get a list"
   ]
  },
  {
   "cell_type": "code",
   "execution_count": 15,
   "metadata": {},
   "outputs": [],
   "source": [
    "last_crops = [x for x in df_original.Crop.value_counts().sort_values(ascending = False).tail(50).index]"
   ]
  },
  {
   "cell_type": "code",
   "execution_count": 16,
   "metadata": {},
   "outputs": [
    {
     "name": "stdout",
     "output_type": "stream",
     "text": [
      "['Sannhamp', 'Mesta', 'Tapioca', 'Cashewnut', 'Tobacco', 'Coconut', 'Soyabean', 'Arecanut', 'Jute', 'Black pepper', 'Niger seed', 'Safflower', 'Oilseeds total', 'Other Cereals & Millets', 'Cardamom', 'other oilseeds', 'Pulses total', 'Guar seed', 'Mango', 'Total foodgrain', 'Jack Fruit', 'Ginger', 'Drum Stick', 'Papaya', 'Pineapple', 'Pome Fruit', 'Brinjal', 'Bhindi', 'Tomato', 'Citrus Fruit', 'Korra', 'Moth', 'Varagu', 'Orange', 'Samai', 'Blackgram', 'Rubber', 'Other Vegetables', 'Grapes', 'Cabbage', 'Cond-spcs other', 'Tea', 'Cashewnut Raw', 'Lentil', 'Coffee', 'Turnip', 'Beans & Mutter(Vegetable)', 'Redish', 'Carrot', 'other misc. pulses']\n"
     ]
    }
   ],
   "source": [
    "print(last_crops)"
   ]
  },
  {
   "cell_type": "code",
   "execution_count": 17,
   "metadata": {},
   "outputs": [
    {
     "data": {
      "text/plain": [
       "list"
      ]
     },
     "execution_count": 17,
     "metadata": {},
     "output_type": "execute_result"
    }
   ],
   "source": [
    "type(last_crops)"
   ]
  },
  {
   "cell_type": "code",
   "execution_count": 18,
   "metadata": {},
   "outputs": [],
   "source": [
    "for label in last_crops:\n",
    "  df_original.drop(df_original.index[(df_original[\"Crop\"] == label)], axis=0, inplace=True)"
   ]
  },
  {
   "cell_type": "code",
   "execution_count": 19,
   "metadata": {},
   "outputs": [
    {
     "data": {
      "text/plain": [
       "pandas.core.frame.DataFrame"
      ]
     },
     "execution_count": 19,
     "metadata": {},
     "output_type": "execute_result"
    }
   ],
   "source": [
    "type(df_original)"
   ]
  },
  {
   "cell_type": "code",
   "execution_count": 20,
   "metadata": {},
   "outputs": [
    {
     "data": {
      "text/plain": [
       "Rice                     5882\n",
       "Maize                    4827\n",
       "Moong(Green Gram)        3532\n",
       "Urad                     3171\n",
       "Sesamum                  2808\n",
       "Wheat                    2584\n",
       "Sugarcane                2576\n",
       "Rapeseed &Mustard        2450\n",
       "Potato                   2436\n",
       "Groundnut                2346\n",
       "Ragi                     2183\n",
       "Arhar/Tur                2174\n",
       "Horse-gram               1987\n",
       "Gram                     1920\n",
       "Dry chillies             1644\n",
       "Onion                    1637\n",
       "Small millets            1579\n",
       "Turmeric                 1563\n",
       "Sunflower                1425\n",
       "Dry ginger               1387\n",
       "Masoor                   1363\n",
       "Sweet potato             1334\n",
       "Peas & beans (Pulses)    1331\n",
       "Barley                   1258\n",
       "Banana                   1164\n",
       "Linseed                  1132\n",
       "Coriander                1123\n",
       "Other Kharif pulses      1111\n",
       "Garlic                   1072\n",
       "Jowar                    1070\n",
       "Bajra                     930\n",
       "Other  Rabi pulses        863\n",
       "Khesari                   838\n",
       "Cotton(lint)              829\n",
       "Castor seed               805\n",
       "Name: Crop, dtype: int64"
      ]
     },
     "execution_count": 20,
     "metadata": {},
     "output_type": "execute_result"
    }
   ],
   "source": [
    "df_original.Crop.value_counts()"
   ]
  },
  {
   "cell_type": "code",
   "execution_count": 21,
   "metadata": {},
   "outputs": [
    {
     "data": {
      "text/plain": [
       "Kharif        26281\n",
       "Rabi          24645\n",
       "Whole Year    15408\n",
       "Name: Season, dtype: int64"
      ]
     },
     "execution_count": 21,
     "metadata": {},
     "output_type": "execute_result"
    }
   ],
   "source": [
    "df_original.Season.value_counts()"
   ]
  },
  {
   "cell_type": "code",
   "execution_count": 22,
   "metadata": {},
   "outputs": [
    {
     "name": "stdout",
     "output_type": "stream",
     "text": [
      "35\n"
     ]
    }
   ],
   "source": [
    "print(len(df_original.Crop.value_counts()))"
   ]
  },
  {
   "cell_type": "markdown",
   "metadata": {},
   "source": [
    "##### there are two insignificant Crops"
   ]
  },
  {
   "cell_type": "code",
   "execution_count": 23,
   "metadata": {},
   "outputs": [],
   "source": [
    "waste_crops = [\"Other Kharif pulses\" ,\"Other  Rabi pulses\"]\n",
    "for label_crop in waste_crops:\n",
    "  df_original.drop(df_original.index[(df_original[\"Crop\"] == label_crop)], axis=0, inplace=True)"
   ]
  },
  {
   "cell_type": "code",
   "execution_count": 24,
   "metadata": {},
   "outputs": [
    {
     "data": {
      "text/plain": [
       "33"
      ]
     },
     "execution_count": 24,
     "metadata": {},
     "output_type": "execute_result"
    }
   ],
   "source": [
    "len(df_original.Crop.unique())"
   ]
  },
  {
   "cell_type": "code",
   "execution_count": 25,
   "metadata": {},
   "outputs": [
    {
     "data": {
      "text/plain": [
       "Rice                     5882\n",
       "Maize                    4827\n",
       "Moong(Green Gram)        3532\n",
       "Urad                     3171\n",
       "Sesamum                  2808\n",
       "Wheat                    2584\n",
       "Sugarcane                2576\n",
       "Rapeseed &Mustard        2450\n",
       "Potato                   2436\n",
       "Groundnut                2346\n",
       "Ragi                     2183\n",
       "Arhar/Tur                2174\n",
       "Horse-gram               1987\n",
       "Gram                     1920\n",
       "Dry chillies             1644\n",
       "Onion                    1637\n",
       "Small millets            1579\n",
       "Turmeric                 1563\n",
       "Sunflower                1425\n",
       "Dry ginger               1387\n",
       "Masoor                   1363\n",
       "Sweet potato             1334\n",
       "Peas & beans (Pulses)    1331\n",
       "Barley                   1258\n",
       "Banana                   1164\n",
       "Linseed                  1132\n",
       "Coriander                1123\n",
       "Garlic                   1072\n",
       "Jowar                    1070\n",
       "Bajra                     930\n",
       "Khesari                   838\n",
       "Cotton(lint)              829\n",
       "Castor seed               805\n",
       "Name: Crop, dtype: int64"
      ]
     },
     "execution_count": 25,
     "metadata": {},
     "output_type": "execute_result"
    }
   ],
   "source": [
    "df_original.Crop.value_counts()"
   ]
  },
  {
   "cell_type": "markdown",
   "metadata": {},
   "source": [
    "# Let's Save It"
   ]
  },
  {
   "cell_type": "code",
   "execution_count": 26,
   "metadata": {},
   "outputs": [],
   "source": [
    "df_original.to_csv('../Datasets/cleaned_yield_dataset.csv', index=False)"
   ]
  },
  {
   "cell_type": "code",
   "execution_count": 27,
   "metadata": {},
   "outputs": [],
   "source": [
    "df_cleaned = pd.read_csv('../Datasets/cleaned_yield_dataset.csv')"
   ]
  },
  {
   "cell_type": "code",
   "execution_count": 28,
   "metadata": {},
   "outputs": [
    {
     "data": {
      "text/html": [
       "<div>\n",
       "<style scoped>\n",
       "    .dataframe tbody tr th:only-of-type {\n",
       "        vertical-align: middle;\n",
       "    }\n",
       "\n",
       "    .dataframe tbody tr th {\n",
       "        vertical-align: top;\n",
       "    }\n",
       "\n",
       "    .dataframe thead th {\n",
       "        text-align: right;\n",
       "    }\n",
       "</style>\n",
       "<table border=\"1\" class=\"dataframe\">\n",
       "  <thead>\n",
       "    <tr style=\"text-align: right;\">\n",
       "      <th></th>\n",
       "      <th>State</th>\n",
       "      <th>Year</th>\n",
       "      <th>Season</th>\n",
       "      <th>Crop</th>\n",
       "      <th>Area</th>\n",
       "      <th>Rainfall</th>\n",
       "      <th>Production</th>\n",
       "    </tr>\n",
       "  </thead>\n",
       "  <tbody>\n",
       "    <tr>\n",
       "      <th>0</th>\n",
       "      <td>Andaman and Nicobar Islands</td>\n",
       "      <td>2000</td>\n",
       "      <td>Kharif</td>\n",
       "      <td>Rice</td>\n",
       "      <td>102.0</td>\n",
       "      <td>2763.2</td>\n",
       "      <td>321.0</td>\n",
       "    </tr>\n",
       "    <tr>\n",
       "      <th>1</th>\n",
       "      <td>Andaman and Nicobar Islands</td>\n",
       "      <td>2000</td>\n",
       "      <td>Whole Year</td>\n",
       "      <td>Banana</td>\n",
       "      <td>176.0</td>\n",
       "      <td>2763.2</td>\n",
       "      <td>641.0</td>\n",
       "    </tr>\n",
       "    <tr>\n",
       "      <th>2</th>\n",
       "      <td>Andaman and Nicobar Islands</td>\n",
       "      <td>2000</td>\n",
       "      <td>Whole Year</td>\n",
       "      <td>Dry ginger</td>\n",
       "      <td>36.0</td>\n",
       "      <td>2763.2</td>\n",
       "      <td>100.0</td>\n",
       "    </tr>\n",
       "    <tr>\n",
       "      <th>3</th>\n",
       "      <td>Andaman and Nicobar Islands</td>\n",
       "      <td>2000</td>\n",
       "      <td>Whole Year</td>\n",
       "      <td>Sugarcane</td>\n",
       "      <td>1.0</td>\n",
       "      <td>2763.2</td>\n",
       "      <td>2.0</td>\n",
       "    </tr>\n",
       "    <tr>\n",
       "      <th>4</th>\n",
       "      <td>Andaman and Nicobar Islands</td>\n",
       "      <td>2000</td>\n",
       "      <td>Whole Year</td>\n",
       "      <td>Sweet potato</td>\n",
       "      <td>5.0</td>\n",
       "      <td>2763.2</td>\n",
       "      <td>15.0</td>\n",
       "    </tr>\n",
       "  </tbody>\n",
       "</table>\n",
       "</div>"
      ],
      "text/plain": [
       "                         State  Year      Season          Crop   Area  \\\n",
       "0  Andaman and Nicobar Islands  2000      Kharif          Rice  102.0   \n",
       "1  Andaman and Nicobar Islands  2000  Whole Year        Banana  176.0   \n",
       "2  Andaman and Nicobar Islands  2000  Whole Year    Dry ginger   36.0   \n",
       "3  Andaman and Nicobar Islands  2000  Whole Year     Sugarcane    1.0   \n",
       "4  Andaman and Nicobar Islands  2000  Whole Year  Sweet potato    5.0   \n",
       "\n",
       "   Rainfall  Production  \n",
       "0    2763.2       321.0  \n",
       "1    2763.2       641.0  \n",
       "2    2763.2       100.0  \n",
       "3    2763.2         2.0  \n",
       "4    2763.2        15.0  "
      ]
     },
     "execution_count": 28,
     "metadata": {},
     "output_type": "execute_result"
    }
   ],
   "source": [
    "df_cleaned.head()"
   ]
  },
  {
   "cell_type": "code",
   "execution_count": 29,
   "metadata": {},
   "outputs": [
    {
     "data": {
      "text/plain": [
       "(64360, 7)"
      ]
     },
     "execution_count": 29,
     "metadata": {},
     "output_type": "execute_result"
    }
   ],
   "source": [
    "df_cleaned.shape"
   ]
  },
  {
   "cell_type": "code",
   "execution_count": 30,
   "metadata": {},
   "outputs": [
    {
     "name": "stdout",
     "output_type": "stream",
     "text": [
      "<class 'pandas.core.frame.DataFrame'>\n",
      "RangeIndex: 64360 entries, 0 to 64359\n",
      "Data columns (total 7 columns):\n",
      " #   Column      Non-Null Count  Dtype  \n",
      "---  ------      --------------  -----  \n",
      " 0   State       64360 non-null  object \n",
      " 1   Year        64360 non-null  int64  \n",
      " 2   Season      64360 non-null  object \n",
      " 3   Crop        64360 non-null  object \n",
      " 4   Area        64360 non-null  float64\n",
      " 5   Rainfall    64360 non-null  float64\n",
      " 6   Production  64360 non-null  float64\n",
      "dtypes: float64(3), int64(1), object(3)\n",
      "memory usage: 3.4+ MB\n"
     ]
    }
   ],
   "source": [
    "df_cleaned.info()"
   ]
  }
 ],
 "metadata": {
  "kernelspec": {
   "display_name": "Python 3 (ipykernel)",
   "language": "python",
   "name": "python3"
  },
  "language_info": {
   "codemirror_mode": {
    "name": "ipython",
    "version": 3
   },
   "file_extension": ".py",
   "mimetype": "text/x-python",
   "name": "python",
   "nbconvert_exporter": "python",
   "pygments_lexer": "ipython3",
   "version": "3.9.2"
  }
 },
 "nbformat": 4,
 "nbformat_minor": 4
}
